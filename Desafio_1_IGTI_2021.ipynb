{
  "nbformat": 4,
  "nbformat_minor": 0,
  "metadata": {
    "colab": {
      "name": "Desafio-1-IGTI-2021.ipynb",
      "provenance": [],
      "collapsed_sections": [],
      "include_colab_link": true
    },
    "kernelspec": {
      "name": "python3",
      "display_name": "Python 3"
    }
  },
  "cells": [
    {
      "cell_type": "markdown",
      "metadata": {
        "id": "view-in-github",
        "colab_type": "text"
      },
      "source": [
        "<a href=\"https://colab.research.google.com/github/pierre-fb/kmeans-googlecolab-example/blob/main/Desafio_1_IGTI_2021.ipynb\" target=\"_parent\"><img src=\"https://colab.research.google.com/assets/colab-badge.svg\" alt=\"Open In Colab\"/></a>"
      ]
    },
    {
      "cell_type": "markdown",
      "metadata": {
        "id": "3xNakTR1b6jS"
      },
      "source": [
        "*IMPORTANDO AS BIBLIOTECAS NECESSÁRIAS*"
      ]
    },
    {
      "cell_type": "code",
      "metadata": {
        "id": "9vvpgozjbycW"
      },
      "source": [
        "import pandas as pd\n",
        "import numpy as np\n",
        "from matplotlib import pyplot as plt\n",
        "import plotly as py\n",
        "import plotly.graph_objs as go\n",
        "from sklearn.datasets import make_blobs\n",
        "from sklearn.cluster import KMeans"
      ],
      "execution_count": null,
      "outputs": []
    },
    {
      "cell_type": "markdown",
      "metadata": {
        "id": "gEFo2saOb_2Y"
      },
      "source": [
        "*FAÇA O UPLOAD DO DATASET Mall_Customers.csv PARA O GOOGLE COLAB*\n"
      ]
    },
    {
      "cell_type": "code",
      "metadata": {
        "id": "LbutbvK7b5hx"
      },
      "source": [
        "#Se necessário, troque o caminho do arquivo.\n",
        "\n",
        "df = pd.read_csv('/content/Consumo.csv', sep=',', encoding='1252')\n",
        "df.head()"
      ],
      "execution_count": null,
      "outputs": []
    },
    {
      "cell_type": "markdown",
      "metadata": {
        "id": "AUPZgAAFU4Dv"
      },
      "source": [
        "**PLOTANDO O GRÁFICO DE RENDA X PONTUAÇÃO**"
      ]
    },
    {
      "cell_type": "code",
      "metadata": {
        "id": "ai_Dp4A6Ua1C"
      },
      "source": [
        "plt.scatter(x = 'Salario Anual (milhares)', y = 'Score Gastos (0-100)', data = df)\n",
        "plt.title('Renda Anual x Pontuação de Gastos')\n",
        "plt.show()"
      ],
      "execution_count": null,
      "outputs": []
    },
    {
      "cell_type": "markdown",
      "metadata": {
        "id": "J9CcobeNc1kl"
      },
      "source": [
        "**EXECUÇÃO DO KMEANS COM 2 CLUSTERS**"
      ]
    },
    {
      "cell_type": "code",
      "metadata": {
        "id": "W1LXkVwxdu9r"
      },
      "source": [
        "X2 = df[['Salario Anual (milhares)', 'Score Gastos (0-100)']].iloc[:,:].values\n",
        "\n",
        "#Insira aqui o código que executa o algoritmo k-means com 2 clusters."
      ],
      "execution_count": null,
      "outputs": []
    },
    {
      "cell_type": "markdown",
      "metadata": {
        "id": "VB1u_Sq2eT4V"
      },
      "source": [
        "**EXECUÇÃO DO KMEANS COM 6 CLUSTERS**"
      ]
    },
    {
      "cell_type": "code",
      "metadata": {
        "id": "VJUj-gSgeYrl"
      },
      "source": [
        "#Insira aqui o código que executa o algoritmo k-means com 6 clusters."
      ],
      "execution_count": null,
      "outputs": []
    },
    {
      "cell_type": "markdown",
      "metadata": {
        "id": "hmLOIbVQcVPu"
      },
      "source": [
        "*EXIBIÇÃO DA CURVA DO COTOVELO, MOSTRANDO AS ITERAÇÕES E O NÚMERO IDEAL DE CLUSTERS*"
      ]
    },
    {
      "cell_type": "code",
      "metadata": {
        "id": "8o7FnVIBcnWx"
      },
      "source": [
        "wcss = []\n",
        "for i in range(1, 20):\n",
        "    kmeans = KMeans(n_clusters=i, init='k-means++', max_iter=300, n_init=10)\n",
        "    kmeans.fit(X2)\n",
        "    wcss.append(kmeans.inertia_)\n",
        "plt.plot(range(1, 20), wcss)\n",
        "plt.plot([1,19],[wcss[0], wcss[len(wcss)-1]])\n",
        "plt.title('Curva do cotovelo')\n",
        "plt.xlabel('Número de clusters')\n",
        "plt.ylabel('WCSS')\n",
        "plt.show()"
      ],
      "execution_count": null,
      "outputs": []
    },
    {
      "cell_type": "markdown",
      "metadata": {
        "id": "XZwpgO9xenr5"
      },
      "source": [
        "**EXECUÇÃO DO KMEANS COM O NÚMERO IDEAL DE CLUSTERS**"
      ]
    },
    {
      "cell_type": "code",
      "metadata": {
        "id": "SKb9BTTaefxY"
      },
      "source": [
        "#Insira aqui o código que executa o algoritmo k-means com o número ideal de clusters"
      ],
      "execution_count": null,
      "outputs": []
    }
  ]
}